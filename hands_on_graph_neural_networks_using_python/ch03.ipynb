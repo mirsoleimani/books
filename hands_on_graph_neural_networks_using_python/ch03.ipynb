{
 "cells": [
  {
   "cell_type": "code",
   "execution_count": 1,
   "id": "2e0d9bc1-6c4b-4338-ba1b-219b91ec82d0",
   "metadata": {},
   "outputs": [],
   "source": [
    "import numpy as np\n"
   ]
  },
  {
   "cell_type": "code",
   "execution_count": 6,
   "id": "65acca62-ff63-4e70-aca5-785519f5e04b",
   "metadata": {},
   "outputs": [],
   "source": [
    "CONTEXT_SIZE = 2\n"
   ]
  },
  {
   "cell_type": "code",
   "execution_count": 11,
   "id": "dce77eab-08e0-494d-a867-7c2799453a4e",
   "metadata": {},
   "outputs": [],
   "source": [
    "text = \"Lorem ipsum dolor sit amet, consectetur adipiscing elit. Duis hendrerit ipsum leo, pharetra imperdiet ante auctor eget. Duis fringilla neque a nisi cursus, a consectetur sem vulputate. Nam porttitor gravida nibh, id fringilla leo fringilla non. Mauris mauris odio, rutrum a neque id, accumsan molestie sem. Mauris quis risus in mi tristique efficitur. Nulla feugiat ante magna, vel dignissim justo venenatis vitae. Curabitur felis nisl, auctor at dolor vitae, convallis semper ante. Sed efficitur, felis vel porta lacinia, urna ex pharetra erat, ut tempus nisl elit eu lorem. Sed risus libero, malesuada at mauris finibus, eleifend volutpat lacus. Donec vel nibh leo. Aliquam mattis odio ut convallis fermentum. Nam volutpat dolor dui, et malesuada tellus varius at. Donec pretium enim a nisi egestas, non iaculis purus laoreet. Sed nibh risus, congue vel velit id, varius dapibus lorem. Etiam tincidunt, justo ut pellentesque ultrices, neque odio elementum elit, nec semper quam lacus quis dolor. Suspendisse faucibus ipsum quis metus suscipit porta. Proin vitae vehicula eros, in imperdiet lacus. Ut sed pulvinar mauris.\".split()\n"
   ]
  },
  {
   "cell_type": "code",
   "execution_count": 14,
   "id": "05b44a12-710f-40e2-b09a-e27c622cace9",
   "metadata": {},
   "outputs": [],
   "source": [
    "skipgrams = []\n",
    "for i in range(CONTEX_SIZE, len(text) - CONTEXT_SIZE):\n",
    "    array = [text[j\n",
    "            ] for j in np.arange(i-CONTEXT_SIZE,i+CONTEXT_SIZE+1) if j != i]\n",
    "    skipgrams.append((text[i],array))"
   ]
  },
  {
   "cell_type": "code",
   "execution_count": 15,
   "id": "7223d1e8-0422-47e6-b9d0-8653d33ee797",
   "metadata": {},
   "outputs": [
    {
     "name": "stdout",
     "output_type": "stream",
     "text": [
      "[('dolor', ['Lorem', 'ipsum', 'sit', 'amet,']), ('sit', ['ipsum', 'dolor', 'amet,', 'consectetur'])]\n"
     ]
    }
   ],
   "source": [
    "print(skipgrams[0:2])\n",
    "\n",
    "      "
   ]
  },
  {
   "cell_type": "code",
   "execution_count": null,
   "id": "4524e01d-26ee-4490-8fe5-fd8cede1372e",
   "metadata": {},
   "outputs": [],
   "source": []
  }
 ],
 "metadata": {
  "kernelspec": {
   "display_name": "Python 3 (ipykernel)",
   "language": "python",
   "name": "python3"
  },
  "language_info": {
   "codemirror_mode": {
    "name": "ipython",
    "version": 3
   },
   "file_extension": ".py",
   "mimetype": "text/x-python",
   "name": "python",
   "nbconvert_exporter": "python",
   "pygments_lexer": "ipython3",
   "version": "3.12.1"
  }
 },
 "nbformat": 4,
 "nbformat_minor": 5
}
