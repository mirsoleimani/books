{
 "cells": [
  {
   "cell_type": "markdown",
   "metadata": {},
   "source": [
    "## Attention Mechanism\n",
    "\n",
    "### Scaled Dot-Product Attention\n",
    "$$\n",
    "\\text{Attention}(Q, K, V) = \\text{softmax}\\left(\\frac{QK^T}{\\sqrt{d_k}}\\right)V\n",
    "$$\n",
    "\n",
    "### Multi-Head Attention\n",
    "$$\n",
    "\\text{MultiHead}(Q, K, V) = \\text{Concat}(\\text{head}_1, \\text{head}_2, \\ldots, \\text{head}_h)W^O\n",
    "$$\n",
    "where each head is computed as:\n",
    "$$\n",
    "\\text{head}_i = \\text{Attention}(QW_i^Q, KW_i^K, VW_i^V)\n",
    "$$"
   ]
  },
  {
   "cell_type": "markdown",
   "metadata": {},
   "source": []
  },
  {
   "cell_type": "code",
   "execution_count": 4,
   "metadata": {},
   "outputs": [],
   "source": [
    "import networkx as nx\n",
    "import numpy as np"
   ]
  },
  {
   "cell_type": "code",
   "execution_count": 17,
   "metadata": {},
   "outputs": [],
   "source": [
    "class Node:\n",
    "    def __init__(self, name):\n",
    "        self.name = name\n",
    "        self.data = np.random.randn(2)\n",
    "        self.wkey = np.random.randn(2,2)\n",
    "        self.wquery = np.random.randn(2,2)\n",
    "        self.wvalue = np.random.randn(2,2)\n",
    "    \n",
    "    def data(self):\n",
    "        return self.data\n",
    "    \"key is the word embedding that this node has\"\n",
    "    def key(self):\n",
    "        return np.dot(self.data, self.wkey)\n",
    "    \"query is the word that we are looking for\"\n",
    "    def query(self):\n",
    "        return np.dot(self.data, self.wquery)\n",
    "    \"value is the word that this node communicates\"\n",
    "    def value(self):\n",
    "        return np.dot(self.data, self.wvalue)"
   ]
  },
  {
   "cell_type": "code",
   "execution_count": 16,
   "metadata": {},
   "outputs": [
    {
     "name": "stdout",
     "output_type": "stream",
     "text": [
      "[0.31061503 1.21354462]\n",
      "[[ 0.17328739 -0.36964248]\n",
      " [-0.42329822 -0.92023993]]\n",
      "[-0.45986561 -1.23156872]\n"
     ]
    }
   ],
   "source": [
    "node = Node(\"test\")\n",
    "print(node.data)\n",
    "print(node.wkey)\n",
    "print(node.key())                     "
   ]
  },
  {
   "cell_type": "code",
   "execution_count": null,
   "metadata": {},
   "outputs": [],
   "source": [
    "class Graph:\n",
    "    def __init__(self):\n",
    "        self.nodes = [Node(i) for i in range(10)]\n",
    "        randi = lambda: np.random.randint(len(self.nodes))\n",
    "        self.edges = [(randi(), randi()) for i in range(10)]\n",
    "    \n",
    "    def run(self):\n",
    "        updates = []\n",
    "        for i,n in enumerate(self.nodes):\n",
    "            #what is this node looking for\n",
    "            q = n.query()\n",
    "            inputs = [self.nodes[src] for (src, dst) in self.edges if dst == i]\n",
    "            if len(inputs) == 0:\n",
    "                continue\n",
    "            #what is the key of the inputs\n",
    "            keys = np.array([x.key() for x in inputs])\n",
    "            #calculate the compatibility\n",
    "            scores = [np.dot(k, q) for k in keys]\n",
    "            scores = np.exp(scores) / np.sum(np.exp(scores))"
   ]
  },
  {
   "cell_type": "code",
   "execution_count": null,
   "metadata": {},
   "outputs": [],
   "source": []
  }
 ],
 "metadata": {
  "kernelspec": {
   "display_name": "Python 3",
   "language": "python",
   "name": "python3"
  },
  "language_info": {
   "codemirror_mode": {
    "name": "ipython",
    "version": 3
   },
   "file_extension": ".py",
   "mimetype": "text/x-python",
   "name": "python",
   "nbconvert_exporter": "python",
   "pygments_lexer": "ipython3",
   "version": "3.12.1"
  }
 },
 "nbformat": 4,
 "nbformat_minor": 2
}
