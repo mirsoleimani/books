{
 "cells": [
  {
   "cell_type": "code",
   "execution_count": 2,
   "metadata": {},
   "outputs": [],
   "source": [
    "import torch\n",
    "import torch.distributed as dist\n",
    "import os"
   ]
  },
  {
   "cell_type": "code",
   "execution_count": 2,
   "metadata": {},
   "outputs": [],
   "source": [
    "os.environ['MASTER_ADDR'] = 'localhost'\n",
    "os.environ['MASTER_PORT'] = '12356'\n",
    "# os.environ['RANK'] = '0'\n",
    "# os.environ['WORLD_SIZE'] = '3'"
   ]
  },
  {
   "cell_type": "code",
   "execution_count": 3,
   "metadata": {},
   "outputs": [],
   "source": [
    "def init_process():\n",
    "    if not dist.is_initialized():\n",
    "        dist.init_process_group(backend='gloo')\n",
    "    rank = dist.get_rank()\n",
    "    print(f\"Rank {rank} initialized\")\n",
    "    size = dist.get_world_size()\n",
    "    print(f\"World size: {size}\")"
   ]
  },
  {
   "cell_type": "code",
   "execution_count": null,
   "metadata": {},
   "outputs": [],
   "source": [
    "import torch\n",
    "import torch.distributed as dist\n",
    "\n",
    "def init_process():\n",
    "    if not dist.is_initialized():\n",
    "        dist.init_process_group(backend='gloo')\n",
    "\n",
    "def example_broadcast():\n",
    "    if dist.get_rank() == 0:\n",
    "        tensor = torch.tensor([1, 2, 3, 4, 5], dtype=torch.float32)\n",
    "    else:\n",
    "        tensor = torch.zeros(5, dtype=torch.float32)\n",
    "    print(f\"Before broadcast on rank {dist.get_rank()}: {tensor}\")\n",
    "    dist.broadcast(tensor, src=0)\n",
    "    print(f\"After broadcast on rank {dist.get_rank()}: {tensor}\")\n",
    "\n",
    "# Set environment variables for testing\n",
    "os.environ['MASTER_ADDR'] = 'localhost'\n",
    "os.environ['MASTER_PORT'] = '12356'\n",
    "os.environ['RANK'] = '0'  # Change this for each process\n",
    "os.environ['WORLD_SIZE'] = '2'  # Total number of processes\n",
    "\n",
    "init_process()\n",
    "example_broadcast()"
   ]
  },
  {
   "cell_type": "code",
   "execution_count": null,
   "metadata": {},
   "outputs": [],
   "source": []
  }
 ],
 "metadata": {
  "kernelspec": {
   "display_name": "Python 3",
   "language": "python",
   "name": "python3"
  },
  "language_info": {
   "codemirror_mode": {
    "name": "ipython",
    "version": 3
   },
   "file_extension": ".py",
   "mimetype": "text/x-python",
   "name": "python",
   "nbconvert_exporter": "python",
   "pygments_lexer": "ipython3",
   "version": "3.12.1"
  }
 },
 "nbformat": 4,
 "nbformat_minor": 2
}
